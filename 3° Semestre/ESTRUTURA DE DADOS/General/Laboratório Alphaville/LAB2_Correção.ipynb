{
  "nbformat": 4,
  "nbformat_minor": 0,
  "metadata": {
    "colab": {
      "name": "LAB2-Correção.ipynb",
      "provenance": []
    },
    "kernelspec": {
      "name": "python3",
      "display_name": "Python 3"
    },
    "language_info": {
      "name": "python"
    }
  },
  "cells": [
    {
      "cell_type": "markdown",
      "metadata": {
        "id": "1tDvkSR2BDTZ"
      },
      "source": [
        "\n",
        "# 4- Faça um programa que leia três números inteiros e encontra o menor deles.\n",
        "**Sugestão**: Sejam 3 números A, B e C. A ideia principal é: verificar se A é menor que B e C e se não for, verificar entre B e C."
      ]
    },
    {
      "cell_type": "markdown",
      "metadata": {
        "id": "NmQNZ24CDGuC"
      },
      "source": [
        "Passo1 - Cria o arquivo fonte do exercício"
      ]
    },
    {
      "cell_type": "code",
      "metadata": {
        "id": "iA-bZ4QYXkCW",
        "colab": {
          "base_uri": "https://localhost:8080/"
        },
        "outputId": "2dbc8d5c-b872-4811-c705-7d157958d059"
      },
      "source": [
        "%%writefile ex-4.c\n",
        "\n",
        "#include <stdio.h>\n",
        "\n",
        "int main() {\n",
        "  int a;\n",
        "  int b;\n",
        "  int c;\n",
        "\n",
        "  printf(\"\\nDigite o valor de A: \");\n",
        "  scanf(\"%d\", &a);\n",
        "  printf(\"\\nDigite o valor de B: \");\n",
        "  scanf(\"%d\", &b);\n",
        "  printf(\"\\nDigite o valor de C: \");\n",
        "  scanf(\"%d\", &c);\n",
        "\n",
        "  if(a < b)\n",
        "    if(a < c)\n",
        "      printf(\"\\nO A(%d) é o menor numero\", a);\n",
        "    else\n",
        "      printf(\"\\nO C(%d) é o menor numero\", c);\n",
        "  else\n",
        "    if(b < c)\n",
        "      printf(\"\\nO B(%d) é o menor numero\", b);\n",
        "    else\n",
        "      printf(\"\\nO C(%d) é o menor numero\", c);\n",
        "  \n",
        "  return 0;\n",
        "}"
      ],
      "execution_count": 8,
      "outputs": [
        {
          "output_type": "stream",
          "name": "stdout",
          "text": [
            "Overwriting ex-4.c\n"
          ]
        }
      ]
    },
    {
      "cell_type": "code",
      "metadata": {
        "id": "IPBitIibEJg6"
      },
      "source": [
        ""
      ],
      "execution_count": null,
      "outputs": []
    },
    {
      "cell_type": "markdown",
      "metadata": {
        "id": "cLQExhl4DDYl"
      },
      "source": [
        "Passo-2 Verifica se o arquivo foi criado"
      ]
    },
    {
      "cell_type": "code",
      "metadata": {
        "id": "I-Itp7rPA-Hg",
        "colab": {
          "base_uri": "https://localhost:8080/"
        },
        "outputId": "bdf336f5-1ef7-41d4-e040-6ba86f8cf925"
      },
      "source": [
        "ls -l\n"
      ],
      "execution_count": 2,
      "outputs": [
        {
          "output_type": "stream",
          "name": "stdout",
          "text": [
            "total 8\n",
            "-rw-r--r-- 1 root root  499 Sep 29 20:40 ex-4.c\n",
            "drwxr-xr-x 1 root root 4096 Sep 16 13:40 \u001b[0m\u001b[01;34msample_data\u001b[0m/\n"
          ]
        }
      ]
    },
    {
      "cell_type": "markdown",
      "metadata": {
        "id": "_63SCxCxDuP7"
      },
      "source": [
        "Compila o arquivo e gera o programa ex-4"
      ]
    },
    {
      "cell_type": "code",
      "metadata": {
        "id": "_6S5GVdyYpPt"
      },
      "source": [
        "%%bash\n",
        "\n",
        "gcc ex-4.c -o ex-4"
      ],
      "execution_count": 9,
      "outputs": []
    },
    {
      "cell_type": "markdown",
      "metadata": {
        "id": "moYc3uFpD_R5"
      },
      "source": [
        "Cria os valores de entrada para simular digitação"
      ]
    },
    {
      "cell_type": "code",
      "metadata": {
        "colab": {
          "base_uri": "https://localhost:8080/"
        },
        "id": "ZjlV01FpELcG",
        "outputId": "02454dd1-6940-4036-da73-03bf4dd52e54"
      },
      "source": [
        "%%writefile ex-4.inp\n",
        "10\n",
        "5\n",
        "30"
      ],
      "execution_count": 14,
      "outputs": [
        {
          "output_type": "stream",
          "name": "stdout",
          "text": [
            "Overwriting ex-4.inp\n"
          ]
        }
      ]
    },
    {
      "cell_type": "markdown",
      "metadata": {
        "id": "sEgWRh5pETlR"
      },
      "source": [
        "Executa o programa "
      ]
    },
    {
      "cell_type": "code",
      "metadata": {
        "colab": {
          "base_uri": "https://localhost:8080/"
        },
        "id": "WjYpn9MREXtz",
        "outputId": "694fb8dd-b28d-4f1f-8c18-8b596b58a519"
      },
      "source": [
        "%%bash\n",
        "./ex-4 < ex-4.inp\n"
      ],
      "execution_count": 15,
      "outputs": [
        {
          "output_type": "stream",
          "name": "stdout",
          "text": [
            "\n",
            "Digite o valor de A: \n",
            "Digite o valor de B: \n",
            "Digite o valor de C: \n",
            "O B(5) é o menor numero"
          ]
        }
      ]
    },
    {
      "cell_type": "markdown",
      "metadata": {
        "id": "YI4BaWBiF3Ne"
      },
      "source": [
        "\n",
        "# 5-Faça um programa que leia três números inteiros e colocá-los em ordem crescente.\n",
        "**Sugestão**: Sejam 3 números A, B e C. A ideia principal é:\n",
        "- armazenar em A o menor valor\n",
        "- armazenar em B o valor intermediário\n",
        "- armazenar em C o maior valor"
      ]
    },
    {
      "cell_type": "markdown",
      "metadata": {
        "id": "irI8U-lIF3N9"
      },
      "source": [
        "Passo1 - Cria o arquivo fonte do exercício"
      ]
    },
    {
      "cell_type": "code",
      "metadata": {
        "colab": {
          "base_uri": "https://localhost:8080/"
        },
        "id": "lE2oaKFOF3N9",
        "outputId": "1bcb9c59-1adf-4d35-defd-02f8524ad1c3"
      },
      "source": [
        "%%writefile ex-5.c\n",
        "\n",
        "#include <stdio.h>\n",
        "\n",
        "int main(){\n",
        "  int a = 0;\n",
        "  int b = 0;\n",
        "  int c = 0;\n",
        "  int tmp;\n",
        "\n",
        "  printf(\"\\nDigite o primeiro valor: \");\n",
        "  scanf(\"%d\", &a);\n",
        "  printf(\"\\nDigite o segundo valor: \");\n",
        "  scanf(\"%d\", &b);\n",
        "\n",
        "  if(b < a){\n",
        "  //Inverte a x b\n",
        "      tmp = a;\n",
        "      a = b;\n",
        "      b = tmp;\n",
        "  }\n",
        "\n",
        "  printf(\"\\nDigite o terceiro valor: \");\n",
        "  scanf(\"%d\", &c);\n",
        "\n",
        "  if ( c < b ) {\n",
        "  //Inverte a x b\n",
        "      tmp = b;\n",
        "      b = c;\n",
        "      c = tmp;\n",
        "  }\n",
        "\n",
        "  if(b < a){\n",
        "  //Inverte a x b\n",
        "      tmp = a;\n",
        "      a = b;\n",
        "      b = tmp;\n",
        "  }\n",
        "\n",
        "printf(\"\\nA: %d, B: %d, C: %d\", a, b, c);\n",
        "\n",
        "return 0;\n",
        "} "
      ],
      "execution_count": 16,
      "outputs": [
        {
          "output_type": "stream",
          "name": "stdout",
          "text": [
            "Writing ex-5.c\n"
          ]
        }
      ]
    },
    {
      "cell_type": "code",
      "metadata": {
        "id": "YTWk2fOrF3N9"
      },
      "source": [
        ""
      ],
      "execution_count": null,
      "outputs": []
    },
    {
      "cell_type": "markdown",
      "metadata": {
        "id": "gOxtYJDlF3N9"
      },
      "source": [
        "Passo-2 Verifica se o arquivo foi criado"
      ]
    },
    {
      "cell_type": "code",
      "metadata": {
        "colab": {
          "base_uri": "https://localhost:8080/"
        },
        "id": "4ocL3aAxF3N9",
        "outputId": "3c36808c-eef1-4434-aa1b-512c314699b5"
      },
      "source": [
        "ls -l\n"
      ],
      "execution_count": 17,
      "outputs": [
        {
          "output_type": "stream",
          "name": "stdout",
          "text": [
            "total 28\n",
            "-rwxr-xr-x 1 root root 8400 Sep 29 20:41 \u001b[0m\u001b[01;32mex-4\u001b[0m*\n",
            "-rw-r--r-- 1 root root  504 Sep 29 20:41 ex-4.c\n",
            "-rw-r--r-- 1 root root    8 Sep 29 20:42 ex-4.inp\n",
            "-rw-r--r-- 1 root root  561 Sep 29 20:52 ex-5.c\n",
            "drwxr-xr-x 1 root root 4096 Sep 16 13:40 \u001b[01;34msample_data\u001b[0m/\n"
          ]
        }
      ]
    },
    {
      "cell_type": "markdown",
      "metadata": {
        "id": "xgHGHLq5F3N9"
      },
      "source": [
        "Compila o arquivo e gera o programa ex-4"
      ]
    },
    {
      "cell_type": "code",
      "metadata": {
        "id": "5lEQJesLF3N9"
      },
      "source": [
        "%%bash\n",
        "\n",
        "gcc ex-5.c -o ex-5"
      ],
      "execution_count": 18,
      "outputs": []
    },
    {
      "cell_type": "markdown",
      "metadata": {
        "id": "aWWSOabpF3N9"
      },
      "source": [
        "Cria os valores de entrada para simular digitação"
      ]
    },
    {
      "cell_type": "code",
      "metadata": {
        "colab": {
          "base_uri": "https://localhost:8080/"
        },
        "id": "vbfq9TgkF3N9",
        "outputId": "3c976e7a-bde5-4a1b-8c4d-e040b9394481"
      },
      "source": [
        "%%writefile ex-5.inp\n",
        "11\n",
        "5\n",
        "2\n"
      ],
      "execution_count": 23,
      "outputs": [
        {
          "output_type": "stream",
          "name": "stdout",
          "text": [
            "Overwriting ex-5.inp\n"
          ]
        }
      ]
    },
    {
      "cell_type": "markdown",
      "metadata": {
        "id": "GgWFCDdIF3N9"
      },
      "source": [
        "Executa o programa "
      ]
    },
    {
      "cell_type": "code",
      "metadata": {
        "colab": {
          "base_uri": "https://localhost:8080/"
        },
        "id": "Hgze33EnF3N9",
        "outputId": "4b2c33e2-3a73-401a-fc95-fc018496516f"
      },
      "source": [
        "%%bash\n",
        "./ex-5 < ex-5.inp\n"
      ],
      "execution_count": 24,
      "outputs": [
        {
          "output_type": "stream",
          "name": "stdout",
          "text": [
            "\n",
            "Digite o primeiro valor: \n",
            "Digite o segundo valor: \n",
            "Digite o terceiro valor: \n",
            "A: 2, B: 5, C: 11"
          ]
        }
      ]
    },
    {
      "cell_type": "markdown",
      "metadata": {
        "id": "ELl-F5WsG00H"
      },
      "source": [
        "\n",
        "# 6- Faça um programa que apresente se o número que o usuário digitou é divisível por 3 e por 5 ao mesmo tempo."
      ]
    },
    {
      "cell_type": "markdown",
      "metadata": {
        "id": "bQa5TKMMG00V"
      },
      "source": [
        "Passo1 - Cria o arquivo fonte do exercício"
      ]
    },
    {
      "cell_type": "code",
      "metadata": {
        "colab": {
          "base_uri": "https://localhost:8080/"
        },
        "id": "QRYJux4rG00V",
        "outputId": "422359a7-4b55-4387-e8d3-82998b9672cd"
      },
      "source": [
        "%%writefile ex-6.c\n",
        "\n",
        "#include <stdio.h>\n",
        "\n",
        "int main() {\n",
        "  int nmr;\n",
        "\n",
        "  printf(\"\\nDigite um numero inteiro: \");\n",
        "  scanf(\"%d\", &nmr);\n",
        "\n",
        "  if( !(nmr % 5) )\n",
        "    if( !(nmr % 3) )\n",
        "      printf(\"\\nO valor eh divisivel por 3 e por 5\");\n",
        "    else\n",
        "      printf(\"\\nO valor Nao eh divisivel por 3 mas eh por  5\");\n",
        "  else\n",
        "    if( !(nmr % 3) )\n",
        "      printf(\"\\nO valor Nao eh divisivel por 5 mas eh por  3\");\n",
        "    else\n",
        "      printf(\"\\nO valor Nao eh divisivel por 3 e 5\");\n",
        "\n",
        "return 0;\n",
        "}"
      ],
      "execution_count": 29,
      "outputs": [
        {
          "output_type": "stream",
          "name": "stdout",
          "text": [
            "Overwriting ex-6.c\n"
          ]
        }
      ]
    },
    {
      "cell_type": "code",
      "metadata": {
        "id": "ZHAx50jbG00V"
      },
      "source": [
        ""
      ],
      "execution_count": null,
      "outputs": []
    },
    {
      "cell_type": "markdown",
      "metadata": {
        "id": "dYdZer6hG00V"
      },
      "source": [
        "Passo-2 Verifica se o arquivo foi criado"
      ]
    },
    {
      "cell_type": "code",
      "metadata": {
        "colab": {
          "base_uri": "https://localhost:8080/"
        },
        "id": "VECAqAdDG00V",
        "outputId": "bd4a3077-17a2-494b-b75b-4edb220f703e"
      },
      "source": [
        "ls -l\n"
      ],
      "execution_count": null,
      "outputs": [
        {
          "output_type": "stream",
          "name": "stdout",
          "text": [
            "total 48\n",
            "-rwxr-xr-x 1 root root 8448 Sep 28 20:22 \u001b[0m\u001b[01;32mex-4\u001b[0m*\n",
            "-rw-r--r-- 1 root root  269 Sep 28 20:22 ex-4.c\n",
            "-rw-r--r-- 1 root root    4 Sep 28 20:23 ex-4.inp\n",
            "-rwxr-xr-x 1 root root 8448 Sep 28 20:33 \u001b[01;32mex-5\u001b[0m*\n",
            "-rw-r--r-- 1 root root  343 Sep 28 20:33 ex-5.c\n",
            "-rw-r--r-- 1 root root    8 Sep 28 20:33 ex-5.inp\n",
            "-rw-r--r-- 1 root root  485 Sep 28 20:35 ex-6.c\n",
            "drwxr-xr-x 1 root root 4096 Sep 16 13:40 \u001b[01;34msample_data\u001b[0m/\n"
          ]
        }
      ]
    },
    {
      "cell_type": "markdown",
      "metadata": {
        "id": "3_Mbodm7G00V"
      },
      "source": [
        "Compila o arquivo e gera o programa ex-4"
      ]
    },
    {
      "cell_type": "code",
      "metadata": {
        "id": "R1dc9ngaG00V"
      },
      "source": [
        "%%bash\n",
        "\n",
        "gcc ex-6.c -o ex-6"
      ],
      "execution_count": 30,
      "outputs": []
    },
    {
      "cell_type": "markdown",
      "metadata": {
        "id": "zEaZ7lBwG00V"
      },
      "source": [
        "Cria os valores de entrada para simular digitação"
      ]
    },
    {
      "cell_type": "code",
      "metadata": {
        "colab": {
          "base_uri": "https://localhost:8080/"
        },
        "id": "M1l7bHejG00V",
        "outputId": "0259030a-9194-40eb-d59c-1024b0d0068d"
      },
      "source": [
        "%%writefile ex-6.inp\n",
        "15\n",
        "\n"
      ],
      "execution_count": 36,
      "outputs": [
        {
          "output_type": "stream",
          "name": "stdout",
          "text": [
            "Overwriting ex-6.inp\n"
          ]
        }
      ]
    },
    {
      "cell_type": "markdown",
      "metadata": {
        "id": "7X4xrA-aG00V"
      },
      "source": [
        "Executa o programa "
      ]
    },
    {
      "cell_type": "code",
      "metadata": {
        "colab": {
          "base_uri": "https://localhost:8080/"
        },
        "id": "jxMVKbirG00V",
        "outputId": "4b2821ea-a1b0-4c20-c76c-8fa3945c12b7"
      },
      "source": [
        "%%bash\n",
        "./ex-6 < ex-6.inp\n"
      ],
      "execution_count": 37,
      "outputs": [
        {
          "output_type": "stream",
          "name": "stdout",
          "text": [
            "\n",
            "Digite um numero inteiro: \n",
            "O valor eh divisivel por 3 e por 5"
          ]
        }
      ]
    },
    {
      "cell_type": "markdown",
      "metadata": {
        "id": "-Y40VOx4G1K3"
      },
      "source": [
        "\n",
        "# 7- Num determinado Estado, para transferências de veículos, o DETRAN cobra uma taxa de 2,5% para carros fabricados antes de 2010 e uma taxa de 3,5% para os fabricados de 2010 em diante, taxa esta incidindo sobre o valor de tabela do carro. Escreva um programa lê o ano e o preço do carro e a seguir calcula e imprime a taxa a ser paga."
      ]
    },
    {
      "cell_type": "markdown",
      "metadata": {
        "id": "gm8jllX0G1K4"
      },
      "source": [
        "Passo1 - Cria o arquivo fonte do exercício"
      ]
    },
    {
      "cell_type": "code",
      "metadata": {
        "colab": {
          "base_uri": "https://localhost:8080/"
        },
        "id": "NpqIPkCTG1K4",
        "outputId": "d12be6aa-f244-4746-ab13-647e5a432040"
      },
      "source": [
        "%%writefile ex-7.c\n",
        "\n",
        "#include <stdio.h>\n",
        "\n",
        "int main(){\n",
        "  int ano;\n",
        "  float valor;\n",
        "  float taxa;\n",
        "\n",
        "  printf(\"\\nDigite o ano do veiculo: \");\n",
        "  scanf(\"%d\", &ano);\n",
        "  printf(\"\\nDigite o valor do veiculo: \");\n",
        "  scanf(\"%f\", &valor);\n",
        "\n",
        "  if(ano < 2010){\n",
        "    taxa = (valor * 2.5)/100;\n",
        "  }else{\n",
        "    taxa = (valor * 3.5)/100;\n",
        "  }\n",
        "printf(\"\\nValor da taxa: R$%.2f\",taxa);\n",
        "\n",
        "return 0;\n",
        "} "
      ],
      "execution_count": 38,
      "outputs": [
        {
          "output_type": "stream",
          "name": "stdout",
          "text": [
            "Writing ex-7.c\n"
          ]
        }
      ]
    },
    {
      "cell_type": "code",
      "metadata": {
        "id": "mmxl-19xG1K5"
      },
      "source": [
        ""
      ],
      "execution_count": null,
      "outputs": []
    },
    {
      "cell_type": "markdown",
      "metadata": {
        "id": "rL0J89mMG1K5"
      },
      "source": [
        "Passo-2 Verifica se o arquivo foi criado"
      ]
    },
    {
      "cell_type": "code",
      "metadata": {
        "colab": {
          "base_uri": "https://localhost:8080/"
        },
        "id": "5H6Zb3nCG1K5",
        "outputId": "f84b9ff0-72ca-4c36-bc2f-134558c79231"
      },
      "source": [
        "ls -l\n"
      ],
      "execution_count": null,
      "outputs": [
        {
          "output_type": "stream",
          "name": "stdout",
          "text": [
            "total 68\n",
            "-rwxr-xr-x 1 root root 8448 Sep 28 20:22 \u001b[0m\u001b[01;32mex-4\u001b[0m*\n",
            "-rw-r--r-- 1 root root  269 Sep 28 20:22 ex-4.c\n",
            "-rw-r--r-- 1 root root    4 Sep 28 20:23 ex-4.inp\n",
            "-rwxr-xr-x 1 root root 8448 Sep 28 20:36 \u001b[01;32mex-5\u001b[0m*\n",
            "-rw-r--r-- 1 root root  343 Sep 28 20:36 ex-5.c\n",
            "-rw-r--r-- 1 root root    8 Sep 28 20:36 ex-5.inp\n",
            "-rwxr-xr-x 1 root root 8448 Sep 28 20:35 \u001b[01;32mex-6\u001b[0m*\n",
            "-rw-r--r-- 1 root root  485 Sep 28 20:35 ex-6.c\n",
            "-rw-r--r-- 1 root root    3 Sep 28 20:35 ex-6.inp\n",
            "-rw-r--r-- 1 root root  312 Sep 28 20:38 ex-7.c\n",
            "drwxr-xr-x 1 root root 4096 Sep 16 13:40 \u001b[01;34msample_data\u001b[0m/\n"
          ]
        }
      ]
    },
    {
      "cell_type": "markdown",
      "metadata": {
        "id": "6FWzgFevG1K5"
      },
      "source": [
        "Compila o arquivo e gera o programa ex-4"
      ]
    },
    {
      "cell_type": "code",
      "metadata": {
        "id": "U2-Q9wcIG1K6"
      },
      "source": [
        "%%bash\n",
        "\n",
        "gcc ex-7.c -o ex-7"
      ],
      "execution_count": 39,
      "outputs": []
    },
    {
      "cell_type": "markdown",
      "metadata": {
        "id": "wq--gHUTG1K6"
      },
      "source": [
        "Cria os valores de entrada para simular digitação"
      ]
    },
    {
      "cell_type": "code",
      "metadata": {
        "colab": {
          "base_uri": "https://localhost:8080/"
        },
        "id": "MveMWbwBG1K6",
        "outputId": "22a28b4e-a84d-4c3b-c2f9-f02163bfe88b"
      },
      "source": [
        "%%writefile ex-7.inp\n",
        "2010\n",
        "1000\n"
      ],
      "execution_count": 44,
      "outputs": [
        {
          "output_type": "stream",
          "name": "stdout",
          "text": [
            "Overwriting ex-7.inp\n"
          ]
        }
      ]
    },
    {
      "cell_type": "markdown",
      "metadata": {
        "id": "u4M_JCQnG1K7"
      },
      "source": [
        "Executa o programa "
      ]
    },
    {
      "cell_type": "code",
      "metadata": {
        "colab": {
          "base_uri": "https://localhost:8080/"
        },
        "id": "ZGTB2WzDG1K7",
        "outputId": "809534e3-4dce-4d7e-866f-371237ebdb20"
      },
      "source": [
        "%%bash\n",
        "./ex-7 < ex-7.inp\n"
      ],
      "execution_count": 45,
      "outputs": [
        {
          "output_type": "stream",
          "name": "stdout",
          "text": [
            "\n",
            "Digite o ano do veiculo: \n",
            "Digite o valor do veiculo: \n",
            "Valor da taxa: R$35.00"
          ]
        }
      ]
    },
    {
      "cell_type": "markdown",
      "metadata": {
        "id": "2yQ26Vd8G1fI"
      },
      "source": [
        "\n",
        "# 8- Escreva um programa que lê dois números inteiros e calcula a multiplicação entre os números dados, sem o uso do operador *, mas sim pela soma sucessiva de um deles. \n",
        "**Exemplo**: 3 x 4 = 3 + 3 + 3 + 3 = 4 + 4 + 4 = 12."
      ]
    },
    {
      "cell_type": "markdown",
      "metadata": {
        "id": "cmmF47gtG1fI"
      },
      "source": [
        "Passo1 - Cria o arquivo fonte do exercício"
      ]
    },
    {
      "cell_type": "code",
      "metadata": {
        "colab": {
          "base_uri": "https://localhost:8080/"
        },
        "id": "vMhKjY_HG1fJ",
        "outputId": "4c740fb2-b065-4609-eef2-4eab2c7d1a93"
      },
      "source": [
        "%%writefile ex-8.c\n",
        "\n",
        "#include <stdio.h>\n",
        "\n",
        "int main(){\n",
        "  int a;\n",
        "  int b;\n",
        "  int result = 0;\n",
        "\n",
        "  printf(\"\\nDigite o primeiro valor: \");\n",
        "  scanf(\"%d\", &a);\n",
        "  printf(\"\\nDigite o segundo valor: \\n\");\n",
        "  scanf(\"%d\", &b);\n",
        "\n",
        "  for(int i=a; i ; i--){\n",
        "      result += b;\n",
        "      printf(\"%d \", b);\n",
        "      if (i != 1)\n",
        "        printf(\"+ \");\n",
        "  }\n",
        "  printf(\"= %d\\n\", result);\n",
        "  \n",
        "  result = 0;\n",
        "\n",
        "  for(int i=b; i ; i--){\n",
        "      result += a;\n",
        "      printf(\"%d \", a);\n",
        "      if (i != 1)\n",
        "        printf(\"+ \");\n",
        "  }\n",
        "  printf(\"= %d\", result);\n",
        "  return 0;\n",
        "}"
      ],
      "execution_count": 57,
      "outputs": [
        {
          "output_type": "stream",
          "name": "stdout",
          "text": [
            "Overwriting ex-8.c\n"
          ]
        }
      ]
    },
    {
      "cell_type": "code",
      "metadata": {
        "id": "xD7rhLuPG1fJ"
      },
      "source": [
        ""
      ],
      "execution_count": null,
      "outputs": []
    },
    {
      "cell_type": "markdown",
      "metadata": {
        "id": "db7wncBZG1fJ"
      },
      "source": [
        "Passo-2 Verifica se o arquivo foi criado"
      ]
    },
    {
      "cell_type": "code",
      "metadata": {
        "colab": {
          "base_uri": "https://localhost:8080/"
        },
        "id": "awGgatIwG1fK",
        "outputId": "9c11896d-c056-4325-9571-cebe5279fb2a"
      },
      "source": [
        "ls -l\n"
      ],
      "execution_count": null,
      "outputs": [
        {
          "output_type": "stream",
          "name": "stdout",
          "text": [
            "total 88\n",
            "-rwxr-xr-x 1 root root 8448 Sep 28 20:22 \u001b[0m\u001b[01;32mex-4\u001b[0m*\n",
            "-rw-r--r-- 1 root root  269 Sep 28 20:22 ex-4.c\n",
            "-rw-r--r-- 1 root root    4 Sep 28 20:23 ex-4.inp\n",
            "-rwxr-xr-x 1 root root 8448 Sep 28 20:36 \u001b[01;32mex-5\u001b[0m*\n",
            "-rw-r--r-- 1 root root  343 Sep 28 20:36 ex-5.c\n",
            "-rw-r--r-- 1 root root    8 Sep 28 20:36 ex-5.inp\n",
            "-rwxr-xr-x 1 root root 8448 Sep 28 20:35 \u001b[01;32mex-6\u001b[0m*\n",
            "-rw-r--r-- 1 root root  485 Sep 28 20:35 ex-6.c\n",
            "-rw-r--r-- 1 root root    3 Sep 28 20:35 ex-6.inp\n",
            "-rwxr-xr-x 1 root root 8448 Sep 28 20:38 \u001b[01;32mex-7\u001b[0m*\n",
            "-rw-r--r-- 1 root root  312 Sep 28 20:38 ex-7.c\n",
            "-rw-r--r-- 1 root root    6 Sep 28 20:38 ex-7.inp\n",
            "-rw-r--r-- 1 root root  343 Sep 28 20:41 ex-8.c\n",
            "drwxr-xr-x 1 root root 4096 Sep 16 13:40 \u001b[01;34msample_data\u001b[0m/\n"
          ]
        }
      ]
    },
    {
      "cell_type": "markdown",
      "metadata": {
        "id": "oEiOHSiUG1fK"
      },
      "source": [
        "Compila o arquivo e gera o programa ex-4"
      ]
    },
    {
      "cell_type": "code",
      "metadata": {
        "id": "Lv7l1Z8jG1fK"
      },
      "source": [
        "%%bash\n",
        "\n",
        "gcc ex-8.c -o ex-8"
      ],
      "execution_count": 58,
      "outputs": []
    },
    {
      "cell_type": "markdown",
      "metadata": {
        "id": "ZBG6NDM7G1fL"
      },
      "source": [
        "Cria os valores de entrada para simular digitação"
      ]
    },
    {
      "cell_type": "code",
      "metadata": {
        "colab": {
          "base_uri": "https://localhost:8080/"
        },
        "id": "gP0DU-deG1fL",
        "outputId": "cb9dda5a-b1eb-49c3-ba9f-eececd260085"
      },
      "source": [
        "%%writefile ex-8.inp\n",
        "10\n",
        "2"
      ],
      "execution_count": 52,
      "outputs": [
        {
          "output_type": "stream",
          "name": "stdout",
          "text": [
            "Writing ex-8.inp\n"
          ]
        }
      ]
    },
    {
      "cell_type": "markdown",
      "metadata": {
        "id": "VwgU42jzG1fL"
      },
      "source": [
        "Executa o programa "
      ]
    },
    {
      "cell_type": "code",
      "metadata": {
        "colab": {
          "base_uri": "https://localhost:8080/"
        },
        "id": "vusFWV68G1fL",
        "outputId": "15fe6603-1a78-4461-9e6e-e712f30712a9"
      },
      "source": [
        "%%bash\n",
        "./ex-8 < ex-8.inp\n"
      ],
      "execution_count": 59,
      "outputs": [
        {
          "output_type": "stream",
          "name": "stdout",
          "text": [
            "\n",
            "Digite o primeiro valor: \n",
            "Digite o segundo valor: \n",
            "2 + 2 + 2 + 2 + 2 + 2 + 2 + 2 + 2 + 2 = 20\n",
            "10 + 10 = 20"
          ]
        }
      ]
    },
    {
      "cell_type": "markdown",
      "metadata": {
        "id": "184V_JrlbeYn"
      },
      "source": [
        "\n",
        "# 9- Escreva um programa que leia uma sequência de números inteiros, encontre e imprima o maior e o menor número. A entrada de um número negativo indica que sequência terminou."
      ]
    },
    {
      "cell_type": "markdown",
      "metadata": {
        "id": "uK3T-kt_beY5"
      },
      "source": [
        "Passo1 - Cria o arquivo fonte do exercício"
      ]
    },
    {
      "cell_type": "code",
      "metadata": {
        "colab": {
          "base_uri": "https://localhost:8080/"
        },
        "id": "z-68k1ofbeY5",
        "outputId": "6a0ae940-0df5-4323-b2db-30869cf08a9d"
      },
      "source": [
        "%%writefile ex-9.c\n",
        "\n",
        "#include <stdio.h>\n",
        "\n",
        "int main(){\n",
        "  int a = 0;\n",
        "  int i = 1;\n",
        "  int maior = -1;\n",
        "  int menor = -1;\n",
        "\n",
        "    printf(\"\\nDigite o %d valor: \", i);\n",
        "    scanf(\"%d\",&a);\n",
        "\n",
        "    while(a >= 0){\n",
        "        \n",
        "      if( i==1)\n",
        "          maior = menor = a;\n",
        "\n",
        "      if( a > maior )\n",
        "        maior = a;\n",
        "      if(a < menor )\n",
        "        menor = a;\n",
        "      i++;\n",
        "\n",
        "      printf(\"\\nDigite o %d valor: \", i);\n",
        "      scanf(\"%d\",&a);\n",
        "      }\n",
        "\n",
        "printf(\"\\nMaior: %d\", maior);\n",
        "printf(\"\\nMenor: %d\", menor);\n",
        "\n",
        "return 0;\n",
        "}"
      ],
      "execution_count": 72,
      "outputs": [
        {
          "output_type": "stream",
          "name": "stdout",
          "text": [
            "Overwriting ex-9.c\n"
          ]
        }
      ]
    },
    {
      "cell_type": "code",
      "metadata": {
        "id": "uITOSNtPbeY6"
      },
      "source": [
        ""
      ],
      "execution_count": 60,
      "outputs": []
    },
    {
      "cell_type": "markdown",
      "metadata": {
        "id": "MRzrWQ7ebeY6"
      },
      "source": [
        "Passo-2 Verifica se o arquivo foi criado"
      ]
    },
    {
      "cell_type": "code",
      "metadata": {
        "colab": {
          "base_uri": "https://localhost:8080/"
        },
        "id": "S6qpeMssbeY7",
        "outputId": "7232511e-cc98-4437-b8bc-cace279117a2"
      },
      "source": [
        "ls -l\n"
      ],
      "execution_count": 61,
      "outputs": [
        {
          "output_type": "stream",
          "name": "stdout",
          "text": [
            "total 104\n",
            "-rwxr-xr-x 1 root root 8400 Sep 29 20:41 \u001b[0m\u001b[01;32mex-4\u001b[0m*\n",
            "-rw-r--r-- 1 root root  504 Sep 29 20:41 ex-4.c\n",
            "-rw-r--r-- 1 root root    8 Sep 29 20:42 ex-4.inp\n",
            "-rwxr-xr-x 1 root root 8400 Sep 29 20:52 \u001b[01;32mex-5\u001b[0m*\n",
            "-rw-r--r-- 1 root root  561 Sep 29 20:52 ex-5.c\n",
            "-rw-r--r-- 1 root root    6 Sep 29 20:53 ex-5.inp\n",
            "-rwxr-xr-x 1 root root 8400 Sep 29 21:01 \u001b[01;32mex-6\u001b[0m*\n",
            "-rw-r--r-- 1 root root  444 Sep 29 21:01 ex-6.c\n",
            "-rw-r--r-- 1 root root    3 Sep 29 21:02 ex-6.inp\n",
            "-rwxr-xr-x 1 root root 8400 Sep 29 21:05 \u001b[01;32mex-7\u001b[0m*\n",
            "-rw-r--r-- 1 root root  347 Sep 29 21:05 ex-7.c\n",
            "-rw-r--r-- 1 root root    9 Sep 29 21:07 ex-7.inp\n",
            "-rwxr-xr-x 1 root root 8448 Sep 29 21:19 \u001b[01;32mex-8\u001b[0m*\n",
            "-rw-r--r-- 1 root root  501 Sep 29 21:21 ex-8.c\n",
            "-rw-r--r-- 1 root root    4 Sep 29 21:16 ex-8.inp\n",
            "drwxr-xr-x 1 root root 4096 Sep 16 13:40 \u001b[01;34msample_data\u001b[0m/\n"
          ]
        }
      ]
    },
    {
      "cell_type": "markdown",
      "metadata": {
        "id": "nUsifTrPbeY7"
      },
      "source": [
        "Compila o arquivo e gera o programa ex-4"
      ]
    },
    {
      "cell_type": "code",
      "metadata": {
        "id": "I7y0IjfBbeY7"
      },
      "source": [
        "%%bash\n",
        "\n",
        "gcc ex-9.c -o ex-9"
      ],
      "execution_count": 73,
      "outputs": []
    },
    {
      "cell_type": "markdown",
      "metadata": {
        "id": "pbXQ5B8LbeY8"
      },
      "source": [
        "Cria os valores de entrada para simular digitação"
      ]
    },
    {
      "cell_type": "code",
      "metadata": {
        "colab": {
          "base_uri": "https://localhost:8080/"
        },
        "id": "KjTBcWkWbeY8",
        "outputId": "d1c63d0c-bdf5-4418-8d01-9a5c6fae432d"
      },
      "source": [
        "%%writefile ex-9.inp\n",
        "10\n",
        "11\n",
        "12\n",
        "2\n",
        "1\n",
        "-1"
      ],
      "execution_count": 74,
      "outputs": [
        {
          "output_type": "stream",
          "name": "stdout",
          "text": [
            "Overwriting ex-9.inp\n"
          ]
        }
      ]
    },
    {
      "cell_type": "markdown",
      "metadata": {
        "id": "B_vMRU16beY8"
      },
      "source": [
        "Executa o programa "
      ]
    },
    {
      "cell_type": "code",
      "metadata": {
        "colab": {
          "base_uri": "https://localhost:8080/"
        },
        "id": "qDIYAm2CbeY8",
        "outputId": "a5065d74-350b-4ac7-e8e1-8783fb00753e"
      },
      "source": [
        "%%bash\n",
        "./ex-9 < ex-9.inp\n"
      ],
      "execution_count": 75,
      "outputs": [
        {
          "output_type": "stream",
          "name": "stdout",
          "text": [
            "\n",
            "Digite o 1 valor: \n",
            "Digite o 2 valor: \n",
            "Digite o 3 valor: \n",
            "Digite o 4 valor: \n",
            "Digite o 5 valor: \n",
            "Digite o 6 valor: \n",
            "Maior: 12\n",
            "Menor: 1"
          ]
        }
      ]
    },
    {
      "cell_type": "markdown",
      "metadata": {
        "id": "QCNgQaUBbqKq"
      },
      "source": [
        "\n",
        "# 10- Escreva um programa que receba 10 números inteiros, calcule e mostre a soma dos pares positivos."
      ]
    },
    {
      "cell_type": "markdown",
      "metadata": {
        "id": "srJFMH_hbqKq"
      },
      "source": [
        "Passo1 - Cria o arquivo fonte do exercício"
      ]
    },
    {
      "cell_type": "code",
      "metadata": {
        "colab": {
          "base_uri": "https://localhost:8080/"
        },
        "id": "MH4Yc__DbqKr",
        "outputId": "ed7f2685-8d96-4c59-8870-703526b9e7bb"
      },
      "source": [
        "%%writefile ex-10.c\n",
        "\n",
        "#include <stdio.h>\n",
        "\n",
        "int main() {\n",
        "  int a ;\n",
        "  int soma = 0;\n",
        "\n",
        "for (int i=1; i<11 ; i++){\n",
        "  printf(\"\\nDigite o %d valor: \", i);\n",
        "  scanf(\"%d\",&a);\n",
        "\n",
        "  if(a % 2 == 0 && a > 0)\n",
        "    soma = soma + a;\n",
        "  }\n",
        "\n",
        "  printf(\"\\nO resultado da soma dos pares positivos eh igual a %d\", soma);\n",
        "\n",
        "  return 0;\n",
        "}"
      ],
      "execution_count": 86,
      "outputs": [
        {
          "output_type": "stream",
          "name": "stdout",
          "text": [
            "Overwriting ex-10.c\n"
          ]
        }
      ]
    },
    {
      "cell_type": "code",
      "metadata": {
        "id": "zW2Mb0uObqKr"
      },
      "source": [
        ""
      ],
      "execution_count": null,
      "outputs": []
    },
    {
      "cell_type": "markdown",
      "metadata": {
        "id": "Uu2h8QLzbqKs"
      },
      "source": [
        "Passo-2 Verifica se o arquivo foi criado"
      ]
    },
    {
      "cell_type": "code",
      "metadata": {
        "colab": {
          "base_uri": "https://localhost:8080/"
        },
        "id": "FNvCcDlLbqKs",
        "outputId": "9c11896d-c056-4325-9571-cebe5279fb2a"
      },
      "source": [
        "ls -l\n"
      ],
      "execution_count": null,
      "outputs": [
        {
          "output_type": "stream",
          "name": "stdout",
          "text": [
            "total 88\n",
            "-rwxr-xr-x 1 root root 8448 Sep 28 20:22 \u001b[0m\u001b[01;32mex-4\u001b[0m*\n",
            "-rw-r--r-- 1 root root  269 Sep 28 20:22 ex-4.c\n",
            "-rw-r--r-- 1 root root    4 Sep 28 20:23 ex-4.inp\n",
            "-rwxr-xr-x 1 root root 8448 Sep 28 20:36 \u001b[01;32mex-5\u001b[0m*\n",
            "-rw-r--r-- 1 root root  343 Sep 28 20:36 ex-5.c\n",
            "-rw-r--r-- 1 root root    8 Sep 28 20:36 ex-5.inp\n",
            "-rwxr-xr-x 1 root root 8448 Sep 28 20:35 \u001b[01;32mex-6\u001b[0m*\n",
            "-rw-r--r-- 1 root root  485 Sep 28 20:35 ex-6.c\n",
            "-rw-r--r-- 1 root root    3 Sep 28 20:35 ex-6.inp\n",
            "-rwxr-xr-x 1 root root 8448 Sep 28 20:38 \u001b[01;32mex-7\u001b[0m*\n",
            "-rw-r--r-- 1 root root  312 Sep 28 20:38 ex-7.c\n",
            "-rw-r--r-- 1 root root    6 Sep 28 20:38 ex-7.inp\n",
            "-rw-r--r-- 1 root root  343 Sep 28 20:41 ex-8.c\n",
            "drwxr-xr-x 1 root root 4096 Sep 16 13:40 \u001b[01;34msample_data\u001b[0m/\n"
          ]
        }
      ]
    },
    {
      "cell_type": "markdown",
      "metadata": {
        "id": "qrymE7oXbqKs"
      },
      "source": [
        "Compila o arquivo e gera o programa ex-4"
      ]
    },
    {
      "cell_type": "code",
      "metadata": {
        "id": "Dxcum5BGbqKt"
      },
      "source": [
        "%%bash\n",
        "\n",
        "gcc ex-10.c -o ex-10"
      ],
      "execution_count": 87,
      "outputs": []
    },
    {
      "cell_type": "markdown",
      "metadata": {
        "id": "OAu3jmqPbqKt"
      },
      "source": [
        "Cria os valores de entrada para simular digitação"
      ]
    },
    {
      "cell_type": "code",
      "metadata": {
        "colab": {
          "base_uri": "https://localhost:8080/"
        },
        "id": "9hyftfqwbqKt",
        "outputId": "8110139e-2aff-41c0-9a17-c3ac8831770b"
      },
      "source": [
        "%%writefile ex-10.inp\n",
        "10\n",
        "2\n",
        "3\n",
        "5\n",
        "8\n",
        "66\n",
        "43\n",
        "8\n",
        "9\n",
        "0\n"
      ],
      "execution_count": 84,
      "outputs": [
        {
          "output_type": "stream",
          "name": "stdout",
          "text": [
            "Overwriting ex-10.inp\n"
          ]
        }
      ]
    },
    {
      "cell_type": "markdown",
      "metadata": {
        "id": "R3-iHK3AbqKu"
      },
      "source": [
        "Executa o programa "
      ]
    },
    {
      "cell_type": "code",
      "metadata": {
        "colab": {
          "base_uri": "https://localhost:8080/"
        },
        "id": "ac2-zfXFbqKu",
        "outputId": "12a4cfc7-7f05-4c2b-ab80-9b95d371dec0"
      },
      "source": [
        "%%bash\n",
        "./ex-10 < ex-10.inp\n"
      ],
      "execution_count": 88,
      "outputs": [
        {
          "output_type": "stream",
          "name": "stdout",
          "text": [
            "\n",
            "Digite o 1 valor: \n",
            "Digite o 2 valor: \n",
            "Digite o 3 valor: \n",
            "Digite o 4 valor: \n",
            "Digite o 5 valor: \n",
            "Digite o 6 valor: \n",
            "Digite o 7 valor: \n",
            "Digite o 8 valor: \n",
            "Digite o 9 valor: \n",
            "Digite o 10 valor: \n",
            "O resultado da soma dos pares positivos eh igual a 94"
          ]
        }
      ]
    },
    {
      "cell_type": "markdown",
      "metadata": {
        "id": "SCn3eQ6obsIQ"
      },
      "source": [
        "\n",
        "# 12- A sequência de números de Fibonacci é a seguinte: os dois primeiros termos têm o valor 1 e cada termo seguinte é igual à soma dos dois anteriores.\n",
        "**1, 1, 2, 3, 5, 8, 13, 21, …**\n",
        "\n",
        "**Escreva um programa que solicite ao usuário o número do termo da sequência de Fibonacci e calcule o valor desse termo. **\n",
        "\n",
        "**EX.:** se o número fornecido pelo usuário for 7, o programa deverá encontrar e imprimir na tela o valor ‘13’. "
      ]
    },
    {
      "cell_type": "markdown",
      "metadata": {
        "id": "uPoqt8vkbsIR"
      },
      "source": [
        "Passo1 - Cria o arquivo fonte do exercício"
      ]
    },
    {
      "cell_type": "code",
      "metadata": {
        "colab": {
          "base_uri": "https://localhost:8080/"
        },
        "id": "1we4XVVXbsIS",
        "outputId": "4a196f05-5238-41b7-db1c-01497caf175e"
      },
      "source": [
        "%%writefile ex-12.c\n",
        "\n",
        "#include <stdio.h>\n",
        "\n",
        "int main() {\n",
        "  int a = 1;\n",
        "  int b = 1;\n",
        "  int n;\n",
        "  int cont;\n",
        "\n",
        "  printf(\"Digite a posicao desejada da sequencia Fibonacci: \");\n",
        "  scanf(\"%d\", &n);\n",
        "\n",
        "  for(int i = 1; i < n; i++){\n",
        "    cont = b;\n",
        "    b = a + b;\n",
        "    a = cont;\n",
        "  }\n",
        "\n",
        "  printf(\"Resultado: %d\\n\", a);\n",
        "\n",
        "  return 0;\n",
        "}"
      ],
      "execution_count": 90,
      "outputs": [
        {
          "output_type": "stream",
          "name": "stdout",
          "text": [
            "Writing ex-12.c\n"
          ]
        }
      ]
    },
    {
      "cell_type": "code",
      "metadata": {
        "id": "2ya2GpG_bsIS"
      },
      "source": [
        ""
      ],
      "execution_count": null,
      "outputs": []
    },
    {
      "cell_type": "markdown",
      "metadata": {
        "id": "hRiHAyqfbsIT"
      },
      "source": [
        "Passo-2 Verifica se o arquivo foi criado"
      ]
    },
    {
      "cell_type": "code",
      "metadata": {
        "colab": {
          "base_uri": "https://localhost:8080/"
        },
        "id": "TEzcT_VkbsIT",
        "outputId": "9c11896d-c056-4325-9571-cebe5279fb2a"
      },
      "source": [
        "ls -l\n"
      ],
      "execution_count": null,
      "outputs": [
        {
          "output_type": "stream",
          "name": "stdout",
          "text": [
            "total 88\n",
            "-rwxr-xr-x 1 root root 8448 Sep 28 20:22 \u001b[0m\u001b[01;32mex-4\u001b[0m*\n",
            "-rw-r--r-- 1 root root  269 Sep 28 20:22 ex-4.c\n",
            "-rw-r--r-- 1 root root    4 Sep 28 20:23 ex-4.inp\n",
            "-rwxr-xr-x 1 root root 8448 Sep 28 20:36 \u001b[01;32mex-5\u001b[0m*\n",
            "-rw-r--r-- 1 root root  343 Sep 28 20:36 ex-5.c\n",
            "-rw-r--r-- 1 root root    8 Sep 28 20:36 ex-5.inp\n",
            "-rwxr-xr-x 1 root root 8448 Sep 28 20:35 \u001b[01;32mex-6\u001b[0m*\n",
            "-rw-r--r-- 1 root root  485 Sep 28 20:35 ex-6.c\n",
            "-rw-r--r-- 1 root root    3 Sep 28 20:35 ex-6.inp\n",
            "-rwxr-xr-x 1 root root 8448 Sep 28 20:38 \u001b[01;32mex-7\u001b[0m*\n",
            "-rw-r--r-- 1 root root  312 Sep 28 20:38 ex-7.c\n",
            "-rw-r--r-- 1 root root    6 Sep 28 20:38 ex-7.inp\n",
            "-rw-r--r-- 1 root root  343 Sep 28 20:41 ex-8.c\n",
            "drwxr-xr-x 1 root root 4096 Sep 16 13:40 \u001b[01;34msample_data\u001b[0m/\n"
          ]
        }
      ]
    },
    {
      "cell_type": "markdown",
      "metadata": {
        "id": "BsuAJes-bsIT"
      },
      "source": [
        "Compila o arquivo e gera o programa ex-4"
      ]
    },
    {
      "cell_type": "code",
      "metadata": {
        "id": "ypDWbMwsbsIT"
      },
      "source": [
        "%%bash\n",
        "\n",
        "gcc ex-12.c -o ex-12"
      ],
      "execution_count": 91,
      "outputs": []
    },
    {
      "cell_type": "markdown",
      "metadata": {
        "id": "V2m0FCkbbsIU"
      },
      "source": [
        "Cria os valores de entrada para simular digitação"
      ]
    },
    {
      "cell_type": "code",
      "metadata": {
        "colab": {
          "base_uri": "https://localhost:8080/"
        },
        "id": "JCcQpeNFbsIU",
        "outputId": "a8212483-ed0b-40ae-8702-47b4ae9e4854"
      },
      "source": [
        "%%writefile ex-12.inp\n",
        "7"
      ],
      "execution_count": 89,
      "outputs": [
        {
          "output_type": "stream",
          "name": "stdout",
          "text": [
            "Writing ex-12.inp\n"
          ]
        }
      ]
    },
    {
      "cell_type": "markdown",
      "metadata": {
        "id": "ovD9uv3rbsIU"
      },
      "source": [
        "Executa o programa "
      ]
    },
    {
      "cell_type": "code",
      "metadata": {
        "colab": {
          "base_uri": "https://localhost:8080/"
        },
        "id": "uniWFpY_bsIV",
        "outputId": "27c6da29-43b1-47b4-8340-9e0477497d51"
      },
      "source": [
        "%%bash\n",
        "./ex-12 < ex-12.inp\n"
      ],
      "execution_count": 92,
      "outputs": [
        {
          "output_type": "stream",
          "name": "stdout",
          "text": [
            "Digite a posicao desejada da sequencia Fibonacci: Resultado: 13\n"
          ]
        }
      ]
    }
  ]
}