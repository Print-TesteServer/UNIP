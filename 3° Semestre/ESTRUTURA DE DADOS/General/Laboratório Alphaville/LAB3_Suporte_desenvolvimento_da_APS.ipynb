{
  "nbformat": 4,
  "nbformat_minor": 0,
  "metadata": {
    "colab": {
      "name": "LAB3 - Suporte  desenvolvimento da APS.ipynb",
      "provenance": [],
      "collapsed_sections": [
        "cF7ne3dCHTwC"
      ]
    },
    "kernelspec": {
      "name": "python3",
      "display_name": "Python 3"
    },
    "language_info": {
      "name": "python"
    }
  },
  "cells": [
    {
      "cell_type": "markdown",
      "metadata": {
        "id": "E3KqTpiCGSLd"
      },
      "source": [
        "# 0 - Use o comando para carregar os arquivos de massa de teste disponibilizados no github.\n",
        "Será criada a estrutura do github na pasta **massa**"
      ]
    },
    {
      "cell_type": "code",
      "metadata": {
        "colab": {
          "base_uri": "https://localhost:8080/"
        },
        "id": "J5uLpump7AZc",
        "outputId": "965a0373-34df-467e-fa48-c8f2c8cf4495"
      },
      "source": [
        "!git clone https://github.com/elolivei/APS_Massa_Ordenacao.git massa"
      ],
      "execution_count": null,
      "outputs": [
        {
          "output_type": "stream",
          "name": "stdout",
          "text": [
            "Cloning into 'massa'...\n",
            "remote: Enumerating objects: 1026, done.\u001b[K\n",
            "remote: Counting objects: 100% (1026/1026), done.\u001b[K\n",
            "remote: Compressing objects: 100% (823/823), done.\u001b[K\n",
            "remote: Total 1026 (delta 159), reused 1017 (delta 156), pack-reused 0\u001b[K\n",
            "Receiving objects: 100% (1026/1026), 41.82 MiB | 19.49 MiB/s, done.\n",
            "Resolving deltas: 100% (159/159), done.\n"
          ]
        }
      ]
    },
    {
      "cell_type": "markdown",
      "metadata": {
        "id": "1tDvkSR2BDTZ"
      },
      "source": [
        "\n",
        "# 1 - Como criar um vetor para armazenar os dados para ordenação"
      ]
    },
    {
      "cell_type": "markdown",
      "metadata": {
        "id": "NmQNZ24CDGuC"
      },
      "source": [
        "Usamos a macro #**define** para facilitar alterações sem alteração do codigo.\n",
        "Para acessar o conteúdo do vetor usamos a seguinte sintax: ***nome[indice]*** , em nosso exemplo *vetor[i]*"
      ]
    },
    {
      "cell_type": "code",
      "metadata": {
        "id": "iA-bZ4QYXkCW",
        "colab": {
          "base_uri": "https://localhost:8080/"
        },
        "outputId": "a8d114c9-8c0e-4930-e531-c62c17de01b7"
      },
      "source": [
        "%%writefile aps.c\n",
        "\n",
        "#include <stdio.h>\n",
        "\n",
        "//Tamanho do vetor que deve variar conforme o tamanho do arquivo 10 50 100 500 1k 50k 100k \n",
        "#define tam 5\n",
        "\n",
        "int main() {\n",
        "  int vetor[tam]; // criação do vetor\n",
        "\n",
        "  // imprime o vetor \n",
        "\n",
        "  for(int i=0; i < tam ; i++){\n",
        "      printf(\"%d \", vetor[i]);\n",
        "      if (i != (tam - 1))\n",
        "        printf(\", \");\n",
        "  }\n",
        "\n",
        "  return 0;\n",
        "}"
      ],
      "execution_count": null,
      "outputs": [
        {
          "output_type": "stream",
          "name": "stdout",
          "text": [
            "Overwriting aps.c\n"
          ]
        }
      ]
    },
    {
      "cell_type": "markdown",
      "metadata": {
        "id": "_63SCxCxDuP7"
      },
      "source": [
        "Compila o arquivo e gera o programa **aps.c**"
      ]
    },
    {
      "cell_type": "code",
      "metadata": {
        "id": "_6S5GVdyYpPt"
      },
      "source": [
        "%%bash\n",
        "\n",
        "gcc aps.c -o aps"
      ],
      "execution_count": null,
      "outputs": []
    },
    {
      "cell_type": "markdown",
      "metadata": {
        "id": "sEgWRh5pETlR"
      },
      "source": [
        "Executa o programa **aps** veja que os valores apresentados são indeterminados pois o vetor não está inicializado."
      ]
    },
    {
      "cell_type": "code",
      "metadata": {
        "colab": {
          "base_uri": "https://localhost:8080/"
        },
        "id": "WjYpn9MREXtz",
        "outputId": "1dcb2575-e218-47c3-c4ac-56897a2be4a4"
      },
      "source": [
        "%%bash\n",
        "./aps\n"
      ],
      "execution_count": null,
      "outputs": [
        {
          "output_type": "stream",
          "name": "stdout",
          "text": [
            "-610162896 , 21958 , -610163296 , 21958 , -533133888 "
          ]
        }
      ]
    },
    {
      "cell_type": "markdown",
      "metadata": {
        "id": "UBgQv6cn1NTo"
      },
      "source": [
        "Para ver o funcionamento da macro **#define** altere o valor e execute novamente o programa."
      ]
    },
    {
      "cell_type": "markdown",
      "metadata": {
        "id": "PuPYM9Jb157O"
      },
      "source": [
        "\n",
        "# 2 - Como popular um vetor usando um arquivo usando a função **scanf**"
      ]
    },
    {
      "cell_type": "markdown",
      "metadata": {
        "id": "ieDNSiBd157Q"
      },
      "source": [
        "Como vimos anteriormente a função **scanf** busca o endereço "
      ]
    },
    {
      "cell_type": "code",
      "metadata": {
        "colab": {
          "base_uri": "https://localhost:8080/"
        },
        "id": "OQ-WOaJR157S",
        "outputId": "683b09e7-722f-4079-a89e-6af66f8c8f50"
      },
      "source": [
        "%%writefile aps.c\n",
        "\n",
        "#include <stdio.h>\n",
        "\n",
        "//Tamanho do vetor que deve variar conforme o tamanho do arquivo 10 50 100 500 1k 50k 100k \n",
        "#define tam 10\n",
        "\n",
        "int main() {\n",
        "  int vetor[tam]; // criação do vetor\n",
        "\n",
        "   // Le os dados da entrada padrão para as celulas do vetor\n",
        "\n",
        "  for(int i=0; i < tam ; i++){\n",
        "      scanf(\" %d\", vetor+i);\n",
        "       }\n",
        "\n",
        "   printf(\"\\n\");\n",
        "  \n",
        "  // imprime o vetor \n",
        "\n",
        "  for(int i=0; i < tam ; i++){\n",
        "      printf(\"%d \", vetor[i]);\n",
        "      if (i != (tam - 1))\n",
        "        printf(\", \");\n",
        "  }\n",
        "\n",
        "  return 0;\n",
        "}"
      ],
      "execution_count": null,
      "outputs": [
        {
          "output_type": "stream",
          "name": "stdout",
          "text": [
            "Overwriting aps.c\n"
          ]
        }
      ]
    },
    {
      "cell_type": "markdown",
      "metadata": {
        "id": "NpS9jUFo157U"
      },
      "source": [
        "Compila o arquivo e gera o programa **aps.c**"
      ]
    },
    {
      "cell_type": "code",
      "metadata": {
        "id": "6U9iq2_u157W"
      },
      "source": [
        "%%bash\n",
        "\n",
        "gcc aps.c -o aps"
      ],
      "execution_count": null,
      "outputs": []
    },
    {
      "cell_type": "markdown",
      "metadata": {
        "id": "KXnj2Mc0157Y"
      },
      "source": [
        "Executa o programa **aps** passando como entrada padrão o arquivo baixado do **github**.\n"
      ]
    },
    {
      "cell_type": "code",
      "metadata": {
        "colab": {
          "base_uri": "https://localhost:8080/"
        },
        "id": "frNkNrmU157b",
        "outputId": "b6d084b2-75a9-4899-80b6-38044a07d18e"
      },
      "source": [
        "%%bash\n",
        "./aps < \"massa/10/Sem Duplicidade/Aleatório/dtaleat10uni2.txt\"\n"
      ],
      "execution_count": null,
      "outputs": [
        {
          "output_type": "stream",
          "name": "stdout",
          "text": [
            " \n",
            "Tempo leitura valores: 22965 \n",
            "772 , 783 , 858 , 932 , 570 , 538 , 928 , 242 , 501 , 869  \n",
            "Tempo imprimir valores: 1660  \n",
            "Tempo Total: 30173 "
          ]
        }
      ]
    },
    {
      "cell_type": "markdown",
      "metadata": {
        "id": "JrtW0js_N56S"
      },
      "source": [
        "Use o comando abaixo para listar a massa que foi copiada para seu ambiente de execução."
      ]
    },
    {
      "cell_type": "code",
      "metadata": {
        "colab": {
          "base_uri": "https://localhost:8080/"
        },
        "id": "Dz68IO7k-LMj",
        "outputId": "c871ec74-4be0-4683-a861-76fb9ecc21e5"
      },
      "source": [
        "!ls \"massa/100/Sem Duplicidade/Aleatório\"\n",
        "!ls massa/\n"
      ],
      "execution_count": null,
      "outputs": [
        {
          "output_type": "stream",
          "name": "stdout",
          "text": [
            "dtaleat100uni0.txt  dtaleat100uni3.txt\tdtaleat100uni6.txt  dtaleat100uni9.txt\n",
            "dtaleat100uni1.txt  dtaleat100uni4.txt\tdtaleat100uni7.txt\n",
            "dtaleat100uni2.txt  dtaleat100uni5.txt\tdtaleat100uni8.txt\n",
            "10  100  100k  10k  1k\t50  500  50k  5k  README.md\n"
          ]
        }
      ]
    },
    {
      "cell_type": "markdown",
      "metadata": {
        "id": "HcaHPImT157c"
      },
      "source": [
        "Troque os nomes de arquivos para verificar o funcionamento."
      ]
    },
    {
      "cell_type": "markdown",
      "metadata": {
        "id": "cF7ne3dCHTwC"
      },
      "source": [
        "\n",
        "# 3 - Função que permite obter o timestamp em nanosegundos."
      ]
    },
    {
      "cell_type": "markdown",
      "metadata": {
        "id": "VbsDkThoHTwD"
      },
      "source": [
        "Vamos usar esta função para cronometrar a execução da entrada de dados e impressaão do vetor.\n",
        "A declaração de função: ***long  get_current_time_with_ms (void)*** indica que ela retorna um inteiro longo (***long***). e que não há argumentos para a chamada da função (***void***)\n",
        "Criamos as variaveis ***inicio1*** e ***inicio2*** para registrar o time stamp do sistema em que as fases 1 e fase 2 iniciam.\n",
        "Subtraindo o valor atual do valor salvo nas variaveis obtemos a duração das etapas. "
      ]
    },
    {
      "cell_type": "code",
      "metadata": {
        "colab": {
          "base_uri": "https://localhost:8080/"
        },
        "id": "QSObQKIUHTwF",
        "outputId": "a93c035b-ca09-4a21-daf1-305e738f67d4"
      },
      "source": [
        "%%writefile aps.c\n",
        "\n",
        "#include <inttypes.h>\n",
        "#include <math.h>\n",
        "#include <stdio.h>\n",
        "#include <time.h>\n",
        "\n",
        "//Tamanho do vetor que deve variar conforme o tamanho do arquivo 10 50 100 500 1k 50k 100k \n",
        "#define tam 10\n",
        "\n",
        "long  get_current_time_with_ms (void)\n",
        "{\n",
        "    struct timespec spec;\n",
        "\n",
        "    clock_gettime(CLOCK_REALTIME, &spec);\n",
        "\n",
        "    return spec.tv_nsec;\n",
        "}\n",
        "\n",
        "\n",
        "int main() {\n",
        "  int vetor[tam]; // criação do vetor\n",
        "  long inicio1, inicio2;\n",
        "\n",
        "   // Le os dados da entrada padrão para as celulas do vetor\n",
        "  \n",
        "  inicio1 = get_current_time_with_ms();\n",
        "  for(int i=0; i < tam ; i++){\n",
        "      scanf(\" %d\", vetor+i);\n",
        "       }\n",
        "\n",
        "\n",
        "    \n",
        "  printf (\" \\nTempo leitura valores: %ld \\n\" ,get_current_time_with_ms() - inicio1 );\n",
        "\n",
        "  inicio2 = get_current_time_with_ms();\n",
        "\n",
        "  // imprime o vetor \n",
        "\n",
        "  for(int i=0; i < tam ; i++){\n",
        "      printf(\"%d \", vetor[i]);\n",
        "      if (i != (tam - 1))\n",
        "        printf(\", \");\n",
        "  }\n",
        "  printf (\" \\nTempo imprimir valores: %ld \",get_current_time_with_ms() - inicio2 );\n",
        "  printf (\" \\nTempo Total: %ld \",get_current_time_with_ms() - inicio1 );\n",
        "  \n",
        "  return 0;\n",
        "}"
      ],
      "execution_count": null,
      "outputs": [
        {
          "output_type": "stream",
          "name": "stdout",
          "text": [
            "Overwriting aps.c\n"
          ]
        }
      ]
    },
    {
      "cell_type": "markdown",
      "metadata": {
        "id": "xIj9t4KtHTwH"
      },
      "source": [
        "Compila o arquivo e gera o programa **aps.c**"
      ]
    },
    {
      "cell_type": "code",
      "metadata": {
        "id": "ClQeZ_4IHTwI"
      },
      "source": [
        "%%bash\n",
        "\n",
        "gcc aps.c -o aps"
      ],
      "execution_count": null,
      "outputs": []
    },
    {
      "cell_type": "markdown",
      "metadata": {
        "id": "SeGijNJmHTwJ"
      },
      "source": [
        "Executa o programa **aps** passando como entrada padrão o arquivo baixado do **github**.\n"
      ]
    },
    {
      "cell_type": "code",
      "metadata": {
        "colab": {
          "base_uri": "https://localhost:8080/"
        },
        "id": "nWrCKuatHTwJ",
        "outputId": "f9423906-bf6e-41dc-e707-f41d7c4c1d03"
      },
      "source": [
        "%%bash\n",
        "./aps < \"massa/10/Sem Duplicidade/Aleatório/dtaleat10uni2.txt\"\n"
      ],
      "execution_count": null,
      "outputs": [
        {
          "output_type": "stream",
          "name": "stdout",
          "text": [
            " \n",
            "Tempo leitura valores: 26525 \n",
            "772 , 783 , 858 , 932 , 570 , 538 , 928 , 242 , 501 , 869  \n",
            "Tempo imprimir valores: 1603  \n",
            "Tempo Total: 35933 "
          ]
        }
      ]
    },
    {
      "cell_type": "code",
      "metadata": {
        "colab": {
          "base_uri": "https://localhost:8080/"
        },
        "id": "NqLyKuSPHTwL",
        "outputId": "7fb678eb-25b6-4a01-d6f1-dc528af587bd"
      },
      "source": [
        "!ls \"massa/10/Sem Duplicidade/Aleatório\" \n"
      ],
      "execution_count": null,
      "outputs": [
        {
          "output_type": "stream",
          "name": "stdout",
          "text": [
            "ls: cannot access 'massa/10/Sem Duplicidade/Aleatório': No such file or directory\n"
          ]
        }
      ]
    },
    {
      "cell_type": "markdown",
      "metadata": {
        "id": "T8B4tq9JHTwM"
      },
      "source": [
        "Troque os nomes de arquivos para verificar o funcionamento."
      ]
    },
    {
      "cell_type": "markdown",
      "metadata": {
        "id": "dogpaxcQoZx3"
      },
      "source": [
        "\n",
        "# 4 - Criar funçoes que recebem vetore."
      ]
    },
    {
      "cell_type": "markdown",
      "metadata": {
        "id": "6cGp_eUkoZyX"
      },
      "source": [
        "Em linguagem ***C*** os nomes dos vetores representão seu endereço na memória.\n",
        "\n",
        "Em ***C*** Endereços de memória são considerados **ponteiros**. Variáveis que armazenam **ponteiros** (endereços de memória) são criados utilizando o caractere ´*´. \n",
        "\n",
        "**Exemplo**: int *    //ponteiro para inteiro\n",
        "         char *   // ponteiro para caractere ... etc\n",
        "\n",
        "Vamos criar duas funçoes, uma para obter os dados da entrada padrão para o vetor e uma para imprimir o conteúdo do vetor.\n",
        "\n",
        "**protótipos** (boa prática):\n",
        "\n",
        "void popula_vetor( int* vet, int tam );\n",
        "\n",
        "void print_vetor( int* vet, int tam);\n",
        "\n"
      ]
    },
    {
      "cell_type": "code",
      "metadata": {
        "colab": {
          "base_uri": "https://localhost:8080/"
        },
        "id": "F11HLntdoZyZ",
        "outputId": "f5f6d4f0-7743-48da-d433-7d45827beb76"
      },
      "source": [
        "%%writefile aps.c\n",
        "\n",
        "#include <inttypes.h>\n",
        "#include <math.h>\n",
        "#include <stdio.h>\n",
        "#include <time.h>\n",
        "\n",
        "//Tamanho do vetor que deve variar conforme o tamanho \n",
        "//do arquivo 10 50 100 500 1k 50k 100k\n",
        "\n",
        "#define TAMANHO 10\n",
        "\n",
        "void popula_vetor( int* vet, int tam );\n",
        "void print_vetor( int* vet, int tam);\n",
        "long  get_current_time_with_ms (void);\n",
        "\n",
        "\n",
        "//obtem o tempo em nanosegundos desde que a maquina foi ligada\n",
        "long  get_current_time_with_ms (void)\n",
        "{\n",
        "    struct timespec spec;\n",
        "\n",
        "    clock_gettime(CLOCK_REALTIME, &spec);\n",
        "\n",
        "    return spec.tv_nsec;\n",
        "}\n",
        "\n",
        "// fluxo principal de execução\n",
        "\n",
        "int main() {\n",
        "  int vetor[TAMANHO]; // criação do vetor\n",
        "  long inicio1, inicio2;\n",
        "  long fim;\n",
        "  \n",
        "\n",
        "   // Le os dados da entrada padrão para as celulas do vetor\n",
        "  popula_vetor(  vetor, TAMANHO );\n",
        "\n",
        "  \n",
        "  inicio1 = get_current_time_with_ms();\n",
        "  \n",
        "  printf (\" \\nTempo leitura valores: %ld ns \\n\" ,get_current_time_with_ms() - inicio1 );\n",
        "\n",
        "  inicio2 = get_current_time_with_ms();\n",
        "\n",
        "  // imprime o vetor \n",
        "  print_vetor( vetor, TAMANHO);\n",
        "\n",
        "  // imprime tempo da fase e tempo total\n",
        "  \n",
        "  fim = get_current_time_with_ms();\n",
        "  printf (\" \\nTempo imprimir valores: %ld ns \", fim - inicio2 );\n",
        "  printf (\" \\nTempo Total: %ld ns \", fim - inicio1 );\n",
        "  \n",
        "  return 0;\n",
        "}\n",
        "\n",
        "//função popula vetor\n",
        "\n",
        "void popula_vetor( int* vet, int tam ){\n",
        "for(int i=0; i < tam ; i++){\n",
        "      scanf(\" %d\", vet+i);\n",
        "       }\n",
        "}\n",
        "\n",
        "// função imprime o vetor \n",
        "\n",
        "void print_vetor( int* vet, int tam){\n",
        "  for(int i=0; i < tam ; i++){\n",
        "      printf(\"%d \", vet[i]);\n",
        "      if (i != (tam - 1))\n",
        "        printf(\", \");\n",
        "    }\n",
        "}"
      ],
      "execution_count": 33,
      "outputs": [
        {
          "output_type": "stream",
          "name": "stdout",
          "text": [
            "Overwriting aps.c\n"
          ]
        }
      ]
    },
    {
      "cell_type": "markdown",
      "metadata": {
        "id": "9FJh5mFmoZyd"
      },
      "source": [
        "Compila o arquivo e gera o programa **aps.c**"
      ]
    },
    {
      "cell_type": "code",
      "metadata": {
        "id": "kHo3x4SEoZye"
      },
      "source": [
        "%%bash\n",
        "\n",
        "gcc aps.c -o aps"
      ],
      "execution_count": 34,
      "outputs": []
    },
    {
      "cell_type": "markdown",
      "metadata": {
        "id": "uz5LIfqcoZyf"
      },
      "source": [
        "Executa o programa **aps** passando como entrada padrão o arquivo baixado do **github**.\n"
      ]
    },
    {
      "cell_type": "code",
      "metadata": {
        "colab": {
          "base_uri": "https://localhost:8080/"
        },
        "id": "f38ASryEoZyg",
        "outputId": "67edbc7e-4262-4762-c67c-e68dd34e0e99"
      },
      "source": [
        "%%bash\n",
        "./aps < \"massa/10/Sem Duplicidade/Aleatório/dtaleat10uni3.txt\"\n"
      ],
      "execution_count": 35,
      "outputs": [
        {
          "output_type": "stream",
          "name": "stdout",
          "text": [
            " \n",
            "Tempo leitura valores: 111 ns \n",
            "165 , 180 , 439 , 919 , 856 , 238 , 960 , 614 , 62 , 181  \n",
            "Tempo imprimir valores: 1711 ns  \n",
            "Tempo Total: 8253 ns "
          ]
        }
      ]
    },
    {
      "cell_type": "code",
      "metadata": {
        "colab": {
          "base_uri": "https://localhost:8080/"
        },
        "id": "ly-FgnkIoZyi",
        "outputId": "7fb678eb-25b6-4a01-d6f1-dc528af587bd"
      },
      "source": [
        "!ls \"massa/10/Sem Duplicidade/Aleatório\" \n"
      ],
      "execution_count": null,
      "outputs": [
        {
          "output_type": "stream",
          "name": "stdout",
          "text": [
            "ls: cannot access 'massa/10/Sem Duplicidade/Aleatório': No such file or directory\n"
          ]
        }
      ]
    },
    {
      "cell_type": "markdown",
      "metadata": {
        "id": "mnJJ42z_oZyj"
      },
      "source": [
        "Troque os nomes de arquivos para verificar o funcionamento."
      ]
    },
    {
      "cell_type": "markdown",
      "metadata": {
        "id": "VwDLwUQbMJ5w"
      },
      "source": [
        "# Para ver se você entendeu tudo refaça a fase 3 usando arquivos de tamanho 50,100,500 ... 10k"
      ]
    }
  ]
}