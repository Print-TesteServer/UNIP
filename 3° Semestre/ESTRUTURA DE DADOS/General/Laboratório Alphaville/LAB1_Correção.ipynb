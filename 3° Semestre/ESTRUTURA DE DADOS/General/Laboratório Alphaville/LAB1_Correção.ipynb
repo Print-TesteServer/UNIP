{
  "nbformat": 4,
  "nbformat_minor": 0,
  "metadata": {
    "colab": {
      "name": "LAB1-Correção.ipynb",
      "provenance": []
    },
    "kernelspec": {
      "name": "python3",
      "display_name": "Python 3"
    },
    "language_info": {
      "name": "python"
    }
  },
  "cells": [
    {
      "cell_type": "markdown",
      "metadata": {
        "id": "1tDvkSR2BDTZ"
      },
      "source": [
        "\n",
        "# 4- Escreva um algoritmo que leia dois números, calcule o produto entre eles, mostre o resultado e os números recebidos."
      ]
    },
    {
      "cell_type": "markdown",
      "metadata": {
        "id": "NmQNZ24CDGuC"
      },
      "source": [
        "Passo1 - Cria o arquivo fonte do exercício"
      ]
    },
    {
      "cell_type": "code",
      "metadata": {
        "id": "iA-bZ4QYXkCW",
        "colab": {
          "base_uri": "https://localhost:8080/"
        },
        "outputId": "e3fd1127-9745-48ec-aa00-fb4ed9cb7904"
      },
      "source": [
        "%%writefile ex-4.c\n",
        "\n",
        "#include <stdio.h>\n",
        "\n",
        "int main(void) {\n",
        "  int a;\n",
        "  int b;\n",
        "  int resultado;\n",
        "\n",
        "  printf(\"Digite o primeiro numero\\n\");\n",
        "  scanf(\"%d\",&a);\n",
        "  printf(\"Digite o segundo numero\\n\");\n",
        "  scanf(\"%d\",&b);\n",
        "  resultado = a * b;\n",
        "  printf( \" %d * %d = %d \\n\", a,b,resultado);\n",
        "  return 0;\n",
        "}"
      ],
      "execution_count": null,
      "outputs": [
        {
          "output_type": "stream",
          "name": "stdout",
          "text": [
            "Writing ex-4.c\n"
          ]
        }
      ]
    },
    {
      "cell_type": "code",
      "metadata": {
        "id": "IPBitIibEJg6"
      },
      "source": [
        ""
      ],
      "execution_count": null,
      "outputs": []
    },
    {
      "cell_type": "markdown",
      "metadata": {
        "id": "cLQExhl4DDYl"
      },
      "source": [
        "Passo-2 Verifica se o arquivo foi criado"
      ]
    },
    {
      "cell_type": "code",
      "metadata": {
        "id": "I-Itp7rPA-Hg",
        "colab": {
          "base_uri": "https://localhost:8080/"
        },
        "outputId": "eaedee71-614d-4a9d-a418-88ce069d7b9f"
      },
      "source": [
        "ls -l\n"
      ],
      "execution_count": null,
      "outputs": [
        {
          "output_type": "stream",
          "name": "stdout",
          "text": [
            "total 8\n",
            "-rw-r--r-- 1 root root  269 Sep 28 20:22 ex-4.c\n",
            "drwxr-xr-x 1 root root 4096 Sep 16 13:40 \u001b[0m\u001b[01;34msample_data\u001b[0m/\n"
          ]
        }
      ]
    },
    {
      "cell_type": "markdown",
      "metadata": {
        "id": "_63SCxCxDuP7"
      },
      "source": [
        "Compila o arquivo e gera o programa ex-4"
      ]
    },
    {
      "cell_type": "code",
      "metadata": {
        "id": "_6S5GVdyYpPt"
      },
      "source": [
        "%%bash\n",
        "\n",
        "gcc ex-4.c -o ex-4"
      ],
      "execution_count": null,
      "outputs": []
    },
    {
      "cell_type": "markdown",
      "metadata": {
        "id": "moYc3uFpD_R5"
      },
      "source": [
        "Cria os valores de entrada para simular digitação"
      ]
    },
    {
      "cell_type": "code",
      "metadata": {
        "colab": {
          "base_uri": "https://localhost:8080/"
        },
        "id": "ZjlV01FpELcG",
        "outputId": "63b8c916-c471-4601-93b4-118ec77a7805"
      },
      "source": [
        "%%writefile ex-4.inp\n",
        "10\n",
        "5\n"
      ],
      "execution_count": null,
      "outputs": [
        {
          "output_type": "stream",
          "name": "stdout",
          "text": [
            "Writing ex-4.inp\n"
          ]
        }
      ]
    },
    {
      "cell_type": "markdown",
      "metadata": {
        "id": "sEgWRh5pETlR"
      },
      "source": [
        "Executa o programa "
      ]
    },
    {
      "cell_type": "code",
      "metadata": {
        "colab": {
          "base_uri": "https://localhost:8080/"
        },
        "id": "WjYpn9MREXtz",
        "outputId": "32f08593-801f-4e79-cae2-e9280e253470"
      },
      "source": [
        "%%bash\n",
        "./ex-4 < ex-4.inp\n"
      ],
      "execution_count": null,
      "outputs": [
        {
          "output_type": "stream",
          "name": "stdout",
          "text": [
            "Digite o primeiro numero\n",
            "Digite o segundo numero\n",
            " 10 * 5 = 50 \n"
          ]
        }
      ]
    },
    {
      "cell_type": "markdown",
      "metadata": {
        "id": "YI4BaWBiF3Ne"
      },
      "source": [
        "\n",
        "# 5-Crie um algoritmo que receba a idade de três pessoas, calcule e mostre a média das idades."
      ]
    },
    {
      "cell_type": "markdown",
      "metadata": {
        "id": "irI8U-lIF3N9"
      },
      "source": [
        "Passo1 - Cria o arquivo fonte do exercício"
      ]
    },
    {
      "cell_type": "code",
      "metadata": {
        "colab": {
          "base_uri": "https://localhost:8080/"
        },
        "id": "lE2oaKFOF3N9",
        "outputId": "d4785295-61f3-4a03-aa10-b0a687dd53ed"
      },
      "source": [
        "%%writefile ex-5.c\n",
        "\n",
        "#include <stdio.h>\n",
        "\n",
        "int main(void) {\n",
        "  int p1;\n",
        "  int p2;\n",
        "  int p3;\n",
        "  int media;\n",
        "\n",
        "  printf(\"Digite o primeira idade\\n\");\n",
        "  scanf(\"%d\",&p1);\n",
        "  printf(\"Digite o segunda idade\\n\");\n",
        "  scanf(\"%d\",&p2);\n",
        "  printf(\"Digite o terceira idade\\n\");\n",
        "  scanf(\"%d\",&p3);\n",
        "  media = (p1+p2+p3)/3;\n",
        "  printf( \"A media das idades é:  %d \\n\", media);\n",
        "  return 0;\n",
        "}"
      ],
      "execution_count": null,
      "outputs": [
        {
          "output_type": "stream",
          "name": "stdout",
          "text": [
            "Writing ex-5.c\n"
          ]
        }
      ]
    },
    {
      "cell_type": "code",
      "metadata": {
        "id": "YTWk2fOrF3N9"
      },
      "source": [
        ""
      ],
      "execution_count": null,
      "outputs": []
    },
    {
      "cell_type": "markdown",
      "metadata": {
        "id": "gOxtYJDlF3N9"
      },
      "source": [
        "Passo-2 Verifica se o arquivo foi criado"
      ]
    },
    {
      "cell_type": "code",
      "metadata": {
        "colab": {
          "base_uri": "https://localhost:8080/"
        },
        "id": "4ocL3aAxF3N9",
        "outputId": "33a898fe-5120-4a8d-8610-c2f529b5ea61"
      },
      "source": [
        "ls -l\n"
      ],
      "execution_count": null,
      "outputs": [
        {
          "output_type": "stream",
          "name": "stdout",
          "text": [
            "total 28\n",
            "-rwxr-xr-x 1 root root 8448 Sep 28 20:22 \u001b[0m\u001b[01;32mex-4\u001b[0m*\n",
            "-rw-r--r-- 1 root root  269 Sep 28 20:22 ex-4.c\n",
            "-rw-r--r-- 1 root root    4 Sep 28 20:23 ex-4.inp\n",
            "-rw-r--r-- 1 root root  343 Sep 28 20:30 ex-5.c\n",
            "drwxr-xr-x 1 root root 4096 Sep 16 13:40 \u001b[01;34msample_data\u001b[0m/\n"
          ]
        }
      ]
    },
    {
      "cell_type": "markdown",
      "metadata": {
        "id": "xgHGHLq5F3N9"
      },
      "source": [
        "Compila o arquivo e gera o programa ex-4"
      ]
    },
    {
      "cell_type": "code",
      "metadata": {
        "id": "5lEQJesLF3N9"
      },
      "source": [
        "%%bash\n",
        "\n",
        "gcc ex-5.c -o ex-5"
      ],
      "execution_count": null,
      "outputs": []
    },
    {
      "cell_type": "markdown",
      "metadata": {
        "id": "aWWSOabpF3N9"
      },
      "source": [
        "Cria os valores de entrada para simular digitação"
      ]
    },
    {
      "cell_type": "code",
      "metadata": {
        "colab": {
          "base_uri": "https://localhost:8080/"
        },
        "id": "vbfq9TgkF3N9",
        "outputId": "4485277f-4a9a-4d53-bdde-8c94c8b30f66"
      },
      "source": [
        "%%writefile ex-5.inp\n",
        "17\n",
        "15\n",
        "21\n"
      ],
      "execution_count": null,
      "outputs": [
        {
          "output_type": "stream",
          "name": "stdout",
          "text": [
            "Writing ex-5.inp\n"
          ]
        }
      ]
    },
    {
      "cell_type": "markdown",
      "metadata": {
        "id": "GgWFCDdIF3N9"
      },
      "source": [
        "Executa o programa "
      ]
    },
    {
      "cell_type": "code",
      "metadata": {
        "colab": {
          "base_uri": "https://localhost:8080/"
        },
        "id": "Hgze33EnF3N9",
        "outputId": "9a452ea1-a53d-42df-f55a-0bd1754a083e"
      },
      "source": [
        "%%bash\n",
        "./ex-5 < ex-5.inp\n"
      ],
      "execution_count": null,
      "outputs": [
        {
          "output_type": "stream",
          "name": "stdout",
          "text": [
            "Digite o primeira idade\n",
            "Digite o segunda idade\n",
            "Digite o terceira idade\n",
            "A media das idades é:  17 \n"
          ]
        }
      ]
    },
    {
      "cell_type": "markdown",
      "metadata": {
        "id": "ELl-F5WsG00H"
      },
      "source": [
        "\n",
        "# 6- Faça um algoritmo que receba dois números, calcule a divisão, a multiplicação, a soma, a diferença entre eles e mostre os resultados."
      ]
    },
    {
      "cell_type": "markdown",
      "metadata": {
        "id": "bQa5TKMMG00V"
      },
      "source": [
        "Passo1 - Cria o arquivo fonte do exercício"
      ]
    },
    {
      "cell_type": "code",
      "metadata": {
        "colab": {
          "base_uri": "https://localhost:8080/"
        },
        "id": "QRYJux4rG00V",
        "outputId": "5ecdafea-e4ff-4433-db8a-4477a9aafc7b"
      },
      "source": [
        "%%writefile ex-6.c\n",
        "\n",
        "#include <stdio.h>\n",
        "\n",
        "int main(void) {\n",
        "  int n1;\n",
        "  int n2;\n",
        "  int soma;  int sub;\n",
        "  int mult;\n",
        "  int divisao;\n",
        "\n",
        "  printf(\"Digite o primeiro numero\\n\");\n",
        "  scanf(\"%d\",&n1);\n",
        "  printf(\"Digite o segundo numero\\n\");\n",
        "  scanf(\"%d\",&n2);\n",
        "  soma = n1+n2;\n",
        "  sub = n1-n2;\n",
        "  mult = n1 * n2;\n",
        "  divisao = n1/n2;\n",
        "  printf( \"A soma é:  %d \\n\", soma);\n",
        "  printf( \"A subtração é:  %d \\n\", sub);\n",
        "  printf( \"A divisão é:  %d \\n\", divisao);\n",
        "  printf( \"A multiplicação é:  %d \\n\", mult);\n",
        "  \n",
        "  return 0;\n",
        "}"
      ],
      "execution_count": null,
      "outputs": [
        {
          "output_type": "stream",
          "name": "stdout",
          "text": [
            "Writing ex-6.c\n"
          ]
        }
      ]
    },
    {
      "cell_type": "code",
      "metadata": {
        "id": "ZHAx50jbG00V"
      },
      "source": [
        ""
      ],
      "execution_count": null,
      "outputs": []
    },
    {
      "cell_type": "markdown",
      "metadata": {
        "id": "dYdZer6hG00V"
      },
      "source": [
        "Passo-2 Verifica se o arquivo foi criado"
      ]
    },
    {
      "cell_type": "code",
      "metadata": {
        "colab": {
          "base_uri": "https://localhost:8080/"
        },
        "id": "VECAqAdDG00V",
        "outputId": "bd4a3077-17a2-494b-b75b-4edb220f703e"
      },
      "source": [
        "ls -l\n"
      ],
      "execution_count": null,
      "outputs": [
        {
          "output_type": "stream",
          "name": "stdout",
          "text": [
            "total 48\n",
            "-rwxr-xr-x 1 root root 8448 Sep 28 20:22 \u001b[0m\u001b[01;32mex-4\u001b[0m*\n",
            "-rw-r--r-- 1 root root  269 Sep 28 20:22 ex-4.c\n",
            "-rw-r--r-- 1 root root    4 Sep 28 20:23 ex-4.inp\n",
            "-rwxr-xr-x 1 root root 8448 Sep 28 20:33 \u001b[01;32mex-5\u001b[0m*\n",
            "-rw-r--r-- 1 root root  343 Sep 28 20:33 ex-5.c\n",
            "-rw-r--r-- 1 root root    8 Sep 28 20:33 ex-5.inp\n",
            "-rw-r--r-- 1 root root  485 Sep 28 20:35 ex-6.c\n",
            "drwxr-xr-x 1 root root 4096 Sep 16 13:40 \u001b[01;34msample_data\u001b[0m/\n"
          ]
        }
      ]
    },
    {
      "cell_type": "markdown",
      "metadata": {
        "id": "3_Mbodm7G00V"
      },
      "source": [
        "Compila o arquivo e gera o programa ex-4"
      ]
    },
    {
      "cell_type": "code",
      "metadata": {
        "id": "R1dc9ngaG00V"
      },
      "source": [
        "%%bash\n",
        "\n",
        "gcc ex-6.c -o ex-6"
      ],
      "execution_count": null,
      "outputs": []
    },
    {
      "cell_type": "markdown",
      "metadata": {
        "id": "zEaZ7lBwG00V"
      },
      "source": [
        "Cria os valores de entrada para simular digitação"
      ]
    },
    {
      "cell_type": "code",
      "metadata": {
        "colab": {
          "base_uri": "https://localhost:8080/"
        },
        "id": "M1l7bHejG00V",
        "outputId": "d18b4d66-2f2e-4fc6-a65b-97ec076463e9"
      },
      "source": [
        "%%writefile ex-6.inp\n",
        "3\n",
        "5\n"
      ],
      "execution_count": null,
      "outputs": [
        {
          "output_type": "stream",
          "name": "stdout",
          "text": [
            "Writing ex-6.inp\n"
          ]
        }
      ]
    },
    {
      "cell_type": "markdown",
      "metadata": {
        "id": "7X4xrA-aG00V"
      },
      "source": [
        "Executa o programa "
      ]
    },
    {
      "cell_type": "code",
      "metadata": {
        "colab": {
          "base_uri": "https://localhost:8080/"
        },
        "id": "jxMVKbirG00V",
        "outputId": "060ce1be-b3f6-4423-8d64-bba17d765cea"
      },
      "source": [
        "%%bash\n",
        "./ex-6 < ex-6.inp\n"
      ],
      "execution_count": null,
      "outputs": [
        {
          "output_type": "stream",
          "name": "stdout",
          "text": [
            "Digite o primeiro numero\n",
            "Digite o segundo numero\n",
            "A soma é:  8 \n",
            "A subtração é:  -2 \n",
            "A divisão é:  0 \n",
            "A multiplicação é:  15 \n"
          ]
        }
      ]
    },
    {
      "cell_type": "markdown",
      "metadata": {
        "id": "-Y40VOx4G1K3"
      },
      "source": [
        "\n",
        "# 7- Leia dois valores para as variáveis A e B, efetue a troca dos valores de forma que a variável A passe a ter o valor da variável B e que a variável B, o valor da variável A. Apresentar os valores trocados."
      ]
    },
    {
      "cell_type": "markdown",
      "metadata": {
        "id": "gm8jllX0G1K4"
      },
      "source": [
        "Passo1 - Cria o arquivo fonte do exercício"
      ]
    },
    {
      "cell_type": "code",
      "metadata": {
        "colab": {
          "base_uri": "https://localhost:8080/"
        },
        "id": "NpqIPkCTG1K4",
        "outputId": "fe713c0d-5fd7-4925-8b14-957933f4061c"
      },
      "source": [
        "%%writefile ex-7.c\n",
        "\n",
        "#include <stdio.h>\n",
        "\n",
        "int\n",
        "main (void)\n",
        "{\n",
        "  int n1;\n",
        "  int n2;\n",
        "  int troca;\n",
        " \n",
        "  printf (\"Digite o primeiro numero\\n\");\n",
        "  scanf (\"%d\", &n1);\n",
        "  printf (\"Digite o segundo numero\\n\");\n",
        "  scanf (\"%d\", &n2);\n",
        "  troca = n1;\n",
        "  n1 = n2;\n",
        "  n2 = troca;\n",
        "  printf (\"n1 :  %d \\n\", n1);\n",
        "  printf (\"n2 :  %d \\n\", n2);\n",
        "  \n",
        "  return 0;\n",
        "}\n"
      ],
      "execution_count": null,
      "outputs": [
        {
          "output_type": "stream",
          "name": "stdout",
          "text": [
            "Writing ex-7.c\n"
          ]
        }
      ]
    },
    {
      "cell_type": "code",
      "metadata": {
        "id": "mmxl-19xG1K5"
      },
      "source": [
        ""
      ],
      "execution_count": null,
      "outputs": []
    },
    {
      "cell_type": "markdown",
      "metadata": {
        "id": "rL0J89mMG1K5"
      },
      "source": [
        "Passo-2 Verifica se o arquivo foi criado"
      ]
    },
    {
      "cell_type": "code",
      "metadata": {
        "colab": {
          "base_uri": "https://localhost:8080/"
        },
        "id": "5H6Zb3nCG1K5",
        "outputId": "f84b9ff0-72ca-4c36-bc2f-134558c79231"
      },
      "source": [
        "ls -l\n"
      ],
      "execution_count": null,
      "outputs": [
        {
          "output_type": "stream",
          "name": "stdout",
          "text": [
            "total 68\n",
            "-rwxr-xr-x 1 root root 8448 Sep 28 20:22 \u001b[0m\u001b[01;32mex-4\u001b[0m*\n",
            "-rw-r--r-- 1 root root  269 Sep 28 20:22 ex-4.c\n",
            "-rw-r--r-- 1 root root    4 Sep 28 20:23 ex-4.inp\n",
            "-rwxr-xr-x 1 root root 8448 Sep 28 20:36 \u001b[01;32mex-5\u001b[0m*\n",
            "-rw-r--r-- 1 root root  343 Sep 28 20:36 ex-5.c\n",
            "-rw-r--r-- 1 root root    8 Sep 28 20:36 ex-5.inp\n",
            "-rwxr-xr-x 1 root root 8448 Sep 28 20:35 \u001b[01;32mex-6\u001b[0m*\n",
            "-rw-r--r-- 1 root root  485 Sep 28 20:35 ex-6.c\n",
            "-rw-r--r-- 1 root root    3 Sep 28 20:35 ex-6.inp\n",
            "-rw-r--r-- 1 root root  312 Sep 28 20:38 ex-7.c\n",
            "drwxr-xr-x 1 root root 4096 Sep 16 13:40 \u001b[01;34msample_data\u001b[0m/\n"
          ]
        }
      ]
    },
    {
      "cell_type": "markdown",
      "metadata": {
        "id": "6FWzgFevG1K5"
      },
      "source": [
        "Compila o arquivo e gera o programa ex-4"
      ]
    },
    {
      "cell_type": "code",
      "metadata": {
        "id": "U2-Q9wcIG1K6"
      },
      "source": [
        "%%bash\n",
        "\n",
        "gcc ex-7.c -o ex-7"
      ],
      "execution_count": null,
      "outputs": []
    },
    {
      "cell_type": "markdown",
      "metadata": {
        "id": "wq--gHUTG1K6"
      },
      "source": [
        "Cria os valores de entrada para simular digitação"
      ]
    },
    {
      "cell_type": "code",
      "metadata": {
        "colab": {
          "base_uri": "https://localhost:8080/"
        },
        "id": "MveMWbwBG1K6",
        "outputId": "be6f23a5-bf49-42c2-d310-4d2e129d055f"
      },
      "source": [
        "%%writefile ex-7.inp\n",
        "17\n",
        "15\n",
        "\n"
      ],
      "execution_count": null,
      "outputs": [
        {
          "output_type": "stream",
          "name": "stdout",
          "text": [
            "Writing ex-7.inp\n"
          ]
        }
      ]
    },
    {
      "cell_type": "markdown",
      "metadata": {
        "id": "u4M_JCQnG1K7"
      },
      "source": [
        "Executa o programa "
      ]
    },
    {
      "cell_type": "code",
      "metadata": {
        "colab": {
          "base_uri": "https://localhost:8080/"
        },
        "id": "ZGTB2WzDG1K7",
        "outputId": "bd347f98-1fed-4b0a-fbf6-9fa4b7e19c46"
      },
      "source": [
        "%%bash\n",
        "./ex-7 < ex-7.inp\n"
      ],
      "execution_count": null,
      "outputs": [
        {
          "output_type": "stream",
          "name": "stdout",
          "text": [
            "Digite o primeiro numero\n",
            "Digite o segundo numero\n",
            "n1 :  15 \n",
            "n2 :  17 \n"
          ]
        }
      ]
    },
    {
      "cell_type": "markdown",
      "metadata": {
        "id": "2yQ26Vd8G1fI"
      },
      "source": [
        "\n",
        "# 8- Faça um algoritmo que leia uma temperatura fornecida em graus Fahrenheit e a converta para o seu equivalente em graus centígrados. C = 5/9 (F-32)"
      ]
    },
    {
      "cell_type": "markdown",
      "metadata": {
        "id": "cmmF47gtG1fI"
      },
      "source": [
        "Passo1 - Cria o arquivo fonte do exercício"
      ]
    },
    {
      "cell_type": "code",
      "metadata": {
        "colab": {
          "base_uri": "https://localhost:8080/"
        },
        "id": "vMhKjY_HG1fJ",
        "outputId": "243eac79-67e6-419b-ac7f-0df1ec6f155c"
      },
      "source": [
        "%%writefile ex-8.c\n",
        "\n",
        "#include <stdio.h>\n",
        "\n",
        "int\n",
        "main (void)\n",
        "{\n",
        "  double far;\n",
        "  double cel;\n",
        " \n",
        "  printf (\"Digite o temperatura em Fahrenheit \\n\");\n",
        "  scanf (\"%lf\", &far);\n",
        "  cel = 5.0/9.0 * (far-32.0);\n",
        "  \n",
        "  printf (\"A temperatura em graus centígrados é :  %f \\n\", cel);\n",
        "  \n",
        "  return 0;\n",
        "}\n"
      ],
      "execution_count": null,
      "outputs": [
        {
          "output_type": "stream",
          "name": "stdout",
          "text": [
            "Overwriting ex-8.c\n"
          ]
        }
      ]
    },
    {
      "cell_type": "code",
      "metadata": {
        "id": "xD7rhLuPG1fJ"
      },
      "source": [
        ""
      ],
      "execution_count": null,
      "outputs": []
    },
    {
      "cell_type": "markdown",
      "metadata": {
        "id": "db7wncBZG1fJ"
      },
      "source": [
        "Passo-2 Verifica se o arquivo foi criado"
      ]
    },
    {
      "cell_type": "code",
      "metadata": {
        "colab": {
          "base_uri": "https://localhost:8080/"
        },
        "id": "awGgatIwG1fK",
        "outputId": "9c11896d-c056-4325-9571-cebe5279fb2a"
      },
      "source": [
        "ls -l\n"
      ],
      "execution_count": null,
      "outputs": [
        {
          "output_type": "stream",
          "name": "stdout",
          "text": [
            "total 88\n",
            "-rwxr-xr-x 1 root root 8448 Sep 28 20:22 \u001b[0m\u001b[01;32mex-4\u001b[0m*\n",
            "-rw-r--r-- 1 root root  269 Sep 28 20:22 ex-4.c\n",
            "-rw-r--r-- 1 root root    4 Sep 28 20:23 ex-4.inp\n",
            "-rwxr-xr-x 1 root root 8448 Sep 28 20:36 \u001b[01;32mex-5\u001b[0m*\n",
            "-rw-r--r-- 1 root root  343 Sep 28 20:36 ex-5.c\n",
            "-rw-r--r-- 1 root root    8 Sep 28 20:36 ex-5.inp\n",
            "-rwxr-xr-x 1 root root 8448 Sep 28 20:35 \u001b[01;32mex-6\u001b[0m*\n",
            "-rw-r--r-- 1 root root  485 Sep 28 20:35 ex-6.c\n",
            "-rw-r--r-- 1 root root    3 Sep 28 20:35 ex-6.inp\n",
            "-rwxr-xr-x 1 root root 8448 Sep 28 20:38 \u001b[01;32mex-7\u001b[0m*\n",
            "-rw-r--r-- 1 root root  312 Sep 28 20:38 ex-7.c\n",
            "-rw-r--r-- 1 root root    6 Sep 28 20:38 ex-7.inp\n",
            "-rw-r--r-- 1 root root  343 Sep 28 20:41 ex-8.c\n",
            "drwxr-xr-x 1 root root 4096 Sep 16 13:40 \u001b[01;34msample_data\u001b[0m/\n"
          ]
        }
      ]
    },
    {
      "cell_type": "markdown",
      "metadata": {
        "id": "oEiOHSiUG1fK"
      },
      "source": [
        "Compila o arquivo e gera o programa ex-4"
      ]
    },
    {
      "cell_type": "code",
      "metadata": {
        "id": "Lv7l1Z8jG1fK"
      },
      "source": [
        "%%bash\n",
        "\n",
        "gcc ex-8.c -o ex-8"
      ],
      "execution_count": null,
      "outputs": []
    },
    {
      "cell_type": "markdown",
      "metadata": {
        "id": "ZBG6NDM7G1fL"
      },
      "source": [
        "Cria os valores de entrada para simular digitação"
      ]
    },
    {
      "cell_type": "code",
      "metadata": {
        "colab": {
          "base_uri": "https://localhost:8080/"
        },
        "id": "gP0DU-deG1fL",
        "outputId": "30d38acd-4d0e-4c16-8480-e91d7afe5393"
      },
      "source": [
        "%%writefile ex-8.inp\n",
        "50"
      ],
      "execution_count": null,
      "outputs": [
        {
          "output_type": "stream",
          "name": "stdout",
          "text": [
            "Overwriting ex-8.inp\n"
          ]
        }
      ]
    },
    {
      "cell_type": "markdown",
      "metadata": {
        "id": "VwgU42jzG1fL"
      },
      "source": [
        "Executa o programa "
      ]
    },
    {
      "cell_type": "code",
      "metadata": {
        "colab": {
          "base_uri": "https://localhost:8080/"
        },
        "id": "vusFWV68G1fL",
        "outputId": "58975d6d-f527-4593-ad83-900f3fefaec1"
      },
      "source": [
        "%%bash\n",
        "./ex-8 < ex-8.inp\n"
      ],
      "execution_count": null,
      "outputs": [
        {
          "output_type": "stream",
          "name": "stdout",
          "text": [
            "Digite o temperatura em Fahrenheit \n",
            "A temperatura em graus centígrados é :  10.000000 \n"
          ]
        }
      ]
    }
  ]
}